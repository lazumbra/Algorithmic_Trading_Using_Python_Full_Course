{
 "cells": [
  {
   "cell_type": "code",
   "execution_count": 3,
   "metadata": {},
   "outputs": [],
   "source": [
    "import numpy as np\n",
    "import pandas as pd\n",
    "import requests\n",
    "import xlsxwriter\n",
    "import math"
   ]
  },
  {
   "cell_type": "code",
   "execution_count": null,
   "metadata": {},
   "outputs": [],
   "source": []
  },
  {
   "cell_type": "code",
   "execution_count": 4,
   "metadata": {},
   "outputs": [
    {
     "data": {
      "text/html": [
       "<div>\n",
       "<style scoped>\n",
       "    .dataframe tbody tr th:only-of-type {\n",
       "        vertical-align: middle;\n",
       "    }\n",
       "\n",
       "    .dataframe tbody tr th {\n",
       "        vertical-align: top;\n",
       "    }\n",
       "\n",
       "    .dataframe thead th {\n",
       "        text-align: right;\n",
       "    }\n",
       "</style>\n",
       "<table border=\"1\" class=\"dataframe\">\n",
       "  <thead>\n",
       "    <tr style=\"text-align: right;\">\n",
       "      <th></th>\n",
       "      <th>Ticker</th>\n",
       "    </tr>\n",
       "  </thead>\n",
       "  <tbody>\n",
       "    <tr>\n",
       "      <th>0</th>\n",
       "      <td>A</td>\n",
       "    </tr>\n",
       "    <tr>\n",
       "      <th>1</th>\n",
       "      <td>AAL</td>\n",
       "    </tr>\n",
       "    <tr>\n",
       "      <th>2</th>\n",
       "      <td>AAP</td>\n",
       "    </tr>\n",
       "    <tr>\n",
       "      <th>3</th>\n",
       "      <td>AAPL</td>\n",
       "    </tr>\n",
       "    <tr>\n",
       "      <th>4</th>\n",
       "      <td>ABBV</td>\n",
       "    </tr>\n",
       "    <tr>\n",
       "      <th>...</th>\n",
       "      <td>...</td>\n",
       "    </tr>\n",
       "    <tr>\n",
       "      <th>500</th>\n",
       "      <td>YUM</td>\n",
       "    </tr>\n",
       "    <tr>\n",
       "      <th>501</th>\n",
       "      <td>ZBH</td>\n",
       "    </tr>\n",
       "    <tr>\n",
       "      <th>502</th>\n",
       "      <td>ZBRA</td>\n",
       "    </tr>\n",
       "    <tr>\n",
       "      <th>503</th>\n",
       "      <td>ZION</td>\n",
       "    </tr>\n",
       "    <tr>\n",
       "      <th>504</th>\n",
       "      <td>ZTS</td>\n",
       "    </tr>\n",
       "  </tbody>\n",
       "</table>\n",
       "<p>505 rows × 1 columns</p>\n",
       "</div>"
      ],
      "text/plain": [
       "    Ticker\n",
       "0        A\n",
       "1      AAL\n",
       "2      AAP\n",
       "3     AAPL\n",
       "4     ABBV\n",
       "..     ...\n",
       "500    YUM\n",
       "501    ZBH\n",
       "502   ZBRA\n",
       "503   ZION\n",
       "504    ZTS\n",
       "\n",
       "[505 rows x 1 columns]"
      ]
     },
     "execution_count": 4,
     "metadata": {},
     "output_type": "execute_result"
    }
   ],
   "source": [
    "stocks = pd.read_csv('sp_500_stocks.csv')\n",
    "stocks"
   ]
  },
  {
   "cell_type": "markdown",
   "metadata": {},
   "source": [
    "Eu tenho um arquivo secret.py com uma informação sigilosa. Neste caso é uma chave.\n",
    "Eu vou chamar o conteudo dessa chave usando o código abaixo.\n"
   ]
  },
  {
   "cell_type": "code",
   "execution_count": 5,
   "metadata": {},
   "outputs": [],
   "source": [
    "from secret import IEX_CLOUD_API_TOKEN"
   ]
  },
  {
   "cell_type": "markdown",
   "metadata": {},
   "source": [
    "## Fazer a primeira chamada a API\n",
    "\n",
    "A api que eu estou usando\n",
    "\n",
    "A documentação da API que eu estou usando se encontra aqui: https://iexcloud.io/docs/api/\n"
   ]
  },
  {
   "cell_type": "markdown",
   "metadata": {},
   "source": [
    "Eu vou buscar na API duas informações importantes:\n",
    "O market capitalization para cada ação e o preço de cada ação."
   ]
  },
  {
   "cell_type": "markdown",
   "metadata": {},
   "source": [
    "Abaixo eu vou usar fstream para passar o simbolo para o endereço."
   ]
  },
  {
   "cell_type": "code",
   "execution_count": 6,
   "metadata": {},
   "outputs": [
    {
     "name": "stdout",
     "output_type": "stream",
     "text": [
      "{'symbol': 'AAPL', 'companyName': 'Apple Inc', 'primaryExchange': 'OL S CGEMASGAAATE( NNLKBDRLQ/ETS)', 'calculationPrice': 'close', 'open': 133.89, 'openTime': 1629576151205, 'openSource': 'aioifflc', 'close': 131.08, 'closeTime': 1610815992966, 'closeSource': 'liaoicff', 'high': 137, 'highTime': 1675599821557, 'highSource': 'piamduredine1 eec ly5t ', 'low': 129.73, 'lowTime': 1677452154180, 'lowSource': 'n  5eieueri epaydmct1dl', 'latestPrice': 134.6, 'latestSource': 'Close', 'latestTime': 'January 14, 2021', 'latestUpdate': 1611423323421, 'latestVolume': 93379991, 'iexRealtimePrice': 135.06, 'iexRealtimeSize': 1, 'iexLastUpdated': 1640165425467, 'delayedPrice': 134.21, 'delayedPriceTime': 1621864544202, 'oddLotDelayedPrice': 132.91, 'oddLotDelayedPriceTime': 1639198101949, 'extendedPrice': 132, 'extendedChange': 0.19, 'extendedChangePercent': 0.00152, 'extendedPriceTime': 1637279132866, 'previousClose': 135.91, 'previousVolume': 90354066, 'change': -2.05, 'changePercent': -0.0157, 'volume': 92497122, 'iexMarketPercent': 0.0112728961004963, 'iexVolume': 972381, 'avgTotalVolume': 113515126, 'iexBidPrice': 0, 'iexBidSize': 0, 'iexAskPrice': 0, 'iexAskSize': 0, 'iexOpen': 130.62, 'iexOpenTime': 1670577585177, 'iexClose': 135.37, 'iexCloseTime': 1685067668787, 'marketCap': 2201512890845, 'peRatio': 40.4, 'week52High': 141.06, 'week52Low': 56.98, 'ytdChange': -0.029735601171982703, 'lastTradeTime': 1660811251385, 'isUSMarketOpen': False}\n"
     ]
    }
   ],
   "source": [
    "symbol = 'AAPL'\n",
    "api_url = f'https://sandbox.iexapis.com/stable/stock/{symbol}/quote/?token={IEX_CLOUD_API_TOKEN}'\n",
    "data = requests.get(api_url)\n",
    "# print(data.status_code)\n",
    "# Para eu converter o dado recebido na request em json eu só preciso\n",
    "# Usar o comando abaixo.\n",
    "data = requests.get(api_url).json()\n",
    "print(data)\n"
   ]
  },
  {
   "cell_type": "markdown",
   "metadata": {},
   "source": [
    "### Um pouco sobre fstrem\n",
    "\n",
    "Eu uso fstream para modificar alguma tag.\n",
    "\n",
    "Por exemplo no código abaixo, eu vou trocar a tag {adjective} pela variável adjective acima."
   ]
  },
  {
   "cell_type": "code",
   "execution_count": 7,
   "metadata": {},
   "outputs": [
    {
     "name": "stdout",
     "output_type": "stream",
     "text": [
      "freeCodeCamp is superb\n"
     ]
    }
   ],
   "source": [
    "adjective = \"superb\"\n",
    "string = f\"freeCodeCamp is {adjective}\"\n",
    "print(string)"
   ]
  },
  {
   "cell_type": "markdown",
   "metadata": {},
   "source": [
    "Parei em 37:45"
   ]
  },
  {
   "cell_type": "markdown",
   "metadata": {},
   "source": [
    "## Fazer parser do resultado que eu peguei na request da API"
   ]
  },
  {
   "cell_type": "code",
   "execution_count": 8,
   "metadata": {},
   "outputs": [
    {
     "name": "stdout",
     "output_type": "stream",
     "text": [
      "2201512890845\n"
     ]
    }
   ],
   "source": [
    "price = data['latestPrice']\n",
    "market_cap = data['marketCap']\n",
    "print(market_cap)"
   ]
  },
  {
   "cell_type": "markdown",
   "metadata": {},
   "source": [
    "## Adicionar as informações das ações em um Pandas DataFrame\n",
    "\n",
    "Para eu passar as informações para um Pandas DataFrame eu preciso antes formatar o DataFrame"
   ]
  },
  {
   "cell_type": "code",
   "execution_count": 9,
   "metadata": {},
   "outputs": [
    {
     "data": {
      "text/html": [
       "<div>\n",
       "<style scoped>\n",
       "    .dataframe tbody tr th:only-of-type {\n",
       "        vertical-align: middle;\n",
       "    }\n",
       "\n",
       "    .dataframe tbody tr th {\n",
       "        vertical-align: top;\n",
       "    }\n",
       "\n",
       "    .dataframe thead th {\n",
       "        text-align: right;\n",
       "    }\n",
       "</style>\n",
       "<table border=\"1\" class=\"dataframe\">\n",
       "  <thead>\n",
       "    <tr style=\"text-align: right;\">\n",
       "      <th></th>\n",
       "      <th>Ticker</th>\n",
       "      <th>Stock Price</th>\n",
       "      <th>Market Capitalization</th>\n",
       "      <th>Number of Shares to Buy</th>\n",
       "    </tr>\n",
       "  </thead>\n",
       "  <tbody>\n",
       "  </tbody>\n",
       "</table>\n",
       "</div>"
      ],
      "text/plain": [
       "Empty DataFrame\n",
       "Columns: [Ticker, Stock Price, Market Capitalization, Number of Shares to Buy]\n",
       "Index: []"
      ]
     },
     "execution_count": 9,
     "metadata": {},
     "output_type": "execute_result"
    }
   ],
   "source": [
    "# Criar as colunas do dataframe\n",
    "my_columns = ['Ticker', 'Stock Price', 'Market Capitalization', 'Number of Shares to Buy']\n",
    "final_dataframe = pd.DataFrame(columns = my_columns)\n",
    "final_dataframe"
   ]
  },
  {
   "cell_type": "markdown",
   "metadata": {},
   "source": [
    "Agora que eu criei o DataFrame, eu vou fazer um append das minhas informações no DataFrame que eu criei logo acima.\n",
    "\n",
    "Para eu poder adicionar uma informação no meu dataframe eu preciso converter a minha informação em um Panda series. então, se eu tiver um vetor em python que eu quero fazer um append em um dataframe, antes eu preciso converter o vetor em um `pandas series`. "
   ]
  },
  {
   "cell_type": "code",
   "execution_count": 10,
   "metadata": {},
   "outputs": [
    {
     "data": {
      "text/html": [
       "<div>\n",
       "<style scoped>\n",
       "    .dataframe tbody tr th:only-of-type {\n",
       "        vertical-align: middle;\n",
       "    }\n",
       "\n",
       "    .dataframe tbody tr th {\n",
       "        vertical-align: top;\n",
       "    }\n",
       "\n",
       "    .dataframe thead th {\n",
       "        text-align: right;\n",
       "    }\n",
       "</style>\n",
       "<table border=\"1\" class=\"dataframe\">\n",
       "  <thead>\n",
       "    <tr style=\"text-align: right;\">\n",
       "      <th></th>\n",
       "      <th>Ticker</th>\n",
       "      <th>Stock Price</th>\n",
       "      <th>Market Capitalization</th>\n",
       "      <th>Number of Shares to Buy</th>\n",
       "    </tr>\n",
       "  </thead>\n",
       "  <tbody>\n",
       "    <tr>\n",
       "      <th>0</th>\n",
       "      <td>AAPL</td>\n",
       "      <td>134.6</td>\n",
       "      <td>2201512890845</td>\n",
       "      <td>N/A</td>\n",
       "    </tr>\n",
       "  </tbody>\n",
       "</table>\n",
       "</div>"
      ],
      "text/plain": [
       "  Ticker  Stock Price Market Capitalization Number of Shares to Buy\n",
       "0   AAPL        134.6         2201512890845                     N/A"
      ]
     },
     "execution_count": 10,
     "metadata": {},
     "output_type": "execute_result"
    }
   ],
   "source": [
    "final_dataframe.append(\n",
    "    pd.Series(\n",
    "    [\n",
    "        symbol,\n",
    "        price,\n",
    "        market_cap,\n",
    "        'N/A'\n",
    "    ],\n",
    "    index = my_columns\n",
    "    ),\n",
    "    ignore_index=True\n",
    ")"
   ]
  },
  {
   "cell_type": "markdown",
   "metadata": {},
   "source": [
    "## Adicionando todas as informações das ações no DataFrame usando loop\n",
    "\n",
    "Eu tenho uma lista com todos as açções. então eu vou usar a minha lista para passar o nome de cada ação para o endpoint que eu pego as informaçoes da ação na minha API."
   ]
  },
  {
   "cell_type": "raw",
   "metadata": {},
   "source": [
    "final_dataframe = pd.DataFrame(columns = my_columns)\n",
    "for stock in stocks['Ticker']:\n",
    "    print(stock)"
   ]
  },
  {
   "cell_type": "markdown",
   "metadata": {},
   "source": [
    "O código abaixo vai executar muito demorado. Pois ele vai fazer uma request por vez.\n",
    "Depois eu vou fazer uma forma que eu faça todos os request em batch de uma única só vez.\n",
    "Pra não demorar tanto eu vou fazer o append apenas das 5 primeiras ações da minha lista de 500 ações."
   ]
  },
  {
   "cell_type": "code",
   "execution_count": 13,
   "metadata": {},
   "outputs": [],
   "source": [
    "final_dataframe = pd.DataFrame(columns = my_columns)\n",
    "for stock in stocks['Ticker'][:5]:\n",
    "    api_url = f'https://sandbox.iexapis.com/stable/stock/{stock}/quote/?token={IEX_CLOUD_API_TOKEN}'\n",
    "    data = requests.get(api_url).json()\n",
    "    final_dataframe = final_dataframe.append(\n",
    "        pd.Series(\n",
    "    [\n",
    "        stock,\n",
    "        data['latestPrice'],\n",
    "        data['marketCap'],\n",
    "        'N/A'\n",
    "    ],\n",
    "    index = my_columns),\n",
    "    ignore_index = True)"
   ]
  },
  {
   "cell_type": "code",
   "execution_count": 14,
   "metadata": {},
   "outputs": [
    {
     "data": {
      "text/html": [
       "<div>\n",
       "<style scoped>\n",
       "    .dataframe tbody tr th:only-of-type {\n",
       "        vertical-align: middle;\n",
       "    }\n",
       "\n",
       "    .dataframe tbody tr th {\n",
       "        vertical-align: top;\n",
       "    }\n",
       "\n",
       "    .dataframe thead th {\n",
       "        text-align: right;\n",
       "    }\n",
       "</style>\n",
       "<table border=\"1\" class=\"dataframe\">\n",
       "  <thead>\n",
       "    <tr style=\"text-align: right;\">\n",
       "      <th></th>\n",
       "      <th>Ticker</th>\n",
       "      <th>Stock Price</th>\n",
       "      <th>Market Capitalization</th>\n",
       "      <th>Number of Shares to Buy</th>\n",
       "    </tr>\n",
       "  </thead>\n",
       "  <tbody>\n",
       "    <tr>\n",
       "      <th>0</th>\n",
       "      <td>A</td>\n",
       "      <td>129.03</td>\n",
       "      <td>39682083001</td>\n",
       "      <td>N/A</td>\n",
       "    </tr>\n",
       "    <tr>\n",
       "      <th>1</th>\n",
       "      <td>AAL</td>\n",
       "      <td>17.19</td>\n",
       "      <td>10274610051</td>\n",
       "      <td>N/A</td>\n",
       "    </tr>\n",
       "    <tr>\n",
       "      <th>2</th>\n",
       "      <td>AAP</td>\n",
       "      <td>172.73</td>\n",
       "      <td>11990105808</td>\n",
       "      <td>N/A</td>\n",
       "    </tr>\n",
       "    <tr>\n",
       "      <th>3</th>\n",
       "      <td>AAPL</td>\n",
       "      <td>129.62</td>\n",
       "      <td>2214557212029</td>\n",
       "      <td>N/A</td>\n",
       "    </tr>\n",
       "    <tr>\n",
       "      <th>4</th>\n",
       "      <td>ABBV</td>\n",
       "      <td>112.90</td>\n",
       "      <td>197916108934</td>\n",
       "      <td>N/A</td>\n",
       "    </tr>\n",
       "  </tbody>\n",
       "</table>\n",
       "</div>"
      ],
      "text/plain": [
       "  Ticker  Stock Price Market Capitalization Number of Shares to Buy\n",
       "0      A       129.03           39682083001                     N/A\n",
       "1    AAL        17.19           10274610051                     N/A\n",
       "2    AAP       172.73           11990105808                     N/A\n",
       "3   AAPL       129.62         2214557212029                     N/A\n",
       "4   ABBV       112.90          197916108934                     N/A"
      ]
     },
     "execution_count": 14,
     "metadata": {},
     "output_type": "execute_result"
    }
   ],
   "source": [
    "final_dataframe"
   ]
  },
  {
   "cell_type": "markdown",
   "metadata": {},
   "source": [
    "## Utilizando Batch API Calls para melhorar a performace \n",
    "\n",
    "Primeiro eu preciso fazer um split da minha lista em sublistas."
   ]
  },
  {
   "cell_type": "code",
   "execution_count": 16,
   "metadata": {},
   "outputs": [],
   "source": [
    "def chunks(lst, n):\n",
    "    \"\"\"Yield successive n-sized chunks from lst.\"\"\"\n",
    "    for i in range(0, len(lst), n):\n",
    "        yield lst[i:i + n]"
   ]
  },
  {
   "cell_type": "raw",
   "metadata": {},
   "source": [
    " Vou dividir as minhas ações em grupos de 100.\n",
    " Lembre que o \"stocks\" não ṕe uma lista e sim um dataframe.\n",
    " Então quando eu fizer a divisão eu vou precisar, converter para lista.\n",
    "\n",
    "symbol_strings vai ser uma lista de 6 elementos em que cada elemento é uma grande string com todos os nomes. exempĺo abaixo:\n",
    "'A,AAL,AAP,AAPL,ABBV,ABC,ABMD,ABT,ACN,ADBE,ADI,ADM,ADP,ADSK,AEE,AEP,AES,AFL,AIG,AIV,AIZ,AJG,AKAM,ALB,ALGN,ALK,ALL,ALLE,ALXN,AMAT,AMCR,AMD,AME,AMGN,AMP,AMT,AMZN,ANET,ANSS,ANTM,AON,AOS,APA,APD,APH,APTV,ARE,ATO,ATVI,AVB,AVGO,AVY,AWK,AXP,AZO,BA,BAC,BAX,BBY,BDX,BEN,BF.B,BIIB,BIO,BK,BKNG,BKR,BLK,BLL,BMY,BR,BRK.B,BSX,BWA,BXP,C,CAG,CAH,CARR,CAT,CB,CBOE,CBRE,CCI,CCL,CDNS,CDW,CE,CERN,CF,CFG,CHD,CHRW,CHTR,CI,CINF,CL,CLX,CMA,CMCSA'\n",
    "Logo a conversão que eu faço de symbol_groups para symbol_strings é converter de lista em que em symbol_groups cada ação é um elmento de uma lista apra uma grande string com várias ações."
   ]
  },
  {
   "cell_type": "code",
   "execution_count": 31,
   "metadata": {},
   "outputs": [
    {
     "data": {
      "text/plain": [
       "[0         A\n",
       " 1       AAL\n",
       " 2       AAP\n",
       " 3      AAPL\n",
       " 4      ABBV\n",
       "       ...  \n",
       " 95     CINF\n",
       " 96       CL\n",
       " 97      CLX\n",
       " 98      CMA\n",
       " 99    CMCSA\n",
       " Name: Ticker, Length: 100, dtype: object,\n",
       " 100     CME\n",
       " 101     CMG\n",
       " 102     CMI\n",
       " 103     CMS\n",
       " 104     CNC\n",
       "        ... \n",
       " 195    FTNT\n",
       " 196     FTV\n",
       " 197      GD\n",
       " 198      GE\n",
       " 199    GILD\n",
       " Name: Ticker, Length: 100, dtype: object,\n",
       " 200     GIS\n",
       " 201      GL\n",
       " 202     GLW\n",
       " 203      GM\n",
       " 204    GOOG\n",
       "        ... \n",
       " 295     MAA\n",
       " 296     MAR\n",
       " 297     MAS\n",
       " 298     MCD\n",
       " 299    MCHP\n",
       " Name: Ticker, Length: 100, dtype: object,\n",
       " 300     MCK\n",
       " 301     MCO\n",
       " 302    MDLZ\n",
       " 303     MDT\n",
       " 304     MET\n",
       "        ... \n",
       " 395     RHI\n",
       " 396     RJF\n",
       " 397      RL\n",
       " 398     RMD\n",
       " 399     ROK\n",
       " Name: Ticker, Length: 100, dtype: object,\n",
       " 400     ROL\n",
       " 401     ROP\n",
       " 402    ROST\n",
       " 403     RSG\n",
       " 404     RTX\n",
       "        ... \n",
       " 495    XLNX\n",
       " 496     XOM\n",
       " 497    XRAY\n",
       " 498     XRX\n",
       " 499     XYL\n",
       " Name: Ticker, Length: 100, dtype: object,\n",
       " 500     YUM\n",
       " 501     ZBH\n",
       " 502    ZBRA\n",
       " 503    ZION\n",
       " 504     ZTS\n",
       " Name: Ticker, dtype: object]"
      ]
     },
     "execution_count": 31,
     "metadata": {},
     "output_type": "execute_result"
    }
   ],
   "source": [
    "symbol_groups = list(chunks(stocks['Ticker'], 100))\n",
    "# symbol_strings vai ser uma lista com todos os nomes de todas as ações\n",
    "# que eu estou trabalhando. \n",
    "symbol_strings = []\n",
    "for i in range(0, len(symbol_groups)):\n",
    "    symbol_strings.append(','.join(symbol_groups[i]))\n",
    "\n"
   ]
  },
  {
   "cell_type": "markdown",
   "metadata": {},
   "source": [
    "Parei em 1:02:46"
   ]
  },
  {
   "cell_type": "code",
   "execution_count": null,
   "metadata": {},
   "outputs": [],
   "source": []
  }
 ],
 "metadata": {
  "kernelspec": {
   "display_name": "Python 3",
   "language": "python",
   "name": "python3"
  },
  "language_info": {
   "codemirror_mode": {
    "name": "ipython",
    "version": 3
   },
   "file_extension": ".py",
   "mimetype": "text/x-python",
   "name": "python",
   "nbconvert_exporter": "python",
   "pygments_lexer": "ipython3",
   "version": "3.8.5"
  }
 },
 "nbformat": 4,
 "nbformat_minor": 4
}
